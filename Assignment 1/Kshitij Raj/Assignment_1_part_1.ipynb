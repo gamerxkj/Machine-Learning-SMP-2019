{
  "nbformat": 4,
  "nbformat_minor": 0,
  "metadata": {
    "colab": {
      "name": "ACM ML Assignment 1 part 1.ipynb",
      "version": "0.3.2",
      "provenance": [],
      "collapsed_sections": []
    },
    "kernelspec": {
      "name": "python3",
      "display_name": "Python 3"
    }
  },
  "cells": [
    {
      "cell_type": "code",
      "metadata": {
        "id": "RHtccDstLi7q",
        "colab_type": "code",
        "colab": {}
      },
      "source": [
        "import pandas as pd\n",
        "url='https://raw.githubusercontent.com/ACM-NITK/Machine-Learning-SMP-2019/master/Assignment%201/PL18-19.csv'\n",
        "df = pd.read_csv(url)"
      ],
      "execution_count": 0,
      "outputs": []
    },
    {
      "cell_type": "markdown",
      "metadata": {
        "id": "9igdA3pJPsRN",
        "colab_type": "text"
      },
      "source": [
        ""
      ]
    },
    {
      "cell_type": "code",
      "metadata": {
        "id": "XI_igT4APuYi",
        "colab_type": "code",
        "outputId": "2f48e4d1-bcce-477e-dbd4-213722ea49e1",
        "colab": {
          "base_uri": "https://localhost:8080/",
          "height": 299
        }
      },
      "source": [
        "df.head()\n"
      ],
      "execution_count": 5,
      "outputs": [
        {
          "output_type": "execute_result",
          "data": {
            "text/html": [
              "<div>\n",
              "<style scoped>\n",
              "    .dataframe tbody tr th:only-of-type {\n",
              "        vertical-align: middle;\n",
              "    }\n",
              "\n",
              "    .dataframe tbody tr th {\n",
              "        vertical-align: top;\n",
              "    }\n",
              "\n",
              "    .dataframe thead th {\n",
              "        text-align: right;\n",
              "    }\n",
              "</style>\n",
              "<table border=\"1\" class=\"dataframe\">\n",
              "  <thead>\n",
              "    <tr style=\"text-align: right;\">\n",
              "      <th></th>\n",
              "      <th>Date</th>\n",
              "      <th>HomeTeam</th>\n",
              "      <th>AwayTeam</th>\n",
              "      <th>FTHG</th>\n",
              "      <th>FTAG</th>\n",
              "      <th>FTR</th>\n",
              "      <th>HTHG</th>\n",
              "      <th>HTAG</th>\n",
              "      <th>HTR</th>\n",
              "      <th>Referee</th>\n",
              "      <th>HS</th>\n",
              "      <th>AS</th>\n",
              "      <th>HST</th>\n",
              "      <th>AST</th>\n",
              "      <th>HF</th>\n",
              "      <th>AF</th>\n",
              "      <th>HC</th>\n",
              "      <th>AC</th>\n",
              "      <th>HY</th>\n",
              "      <th>AY</th>\n",
              "      <th>HR</th>\n",
              "      <th>AR</th>\n",
              "    </tr>\n",
              "  </thead>\n",
              "  <tbody>\n",
              "    <tr>\n",
              "      <th>0</th>\n",
              "      <td>2018-08-10</td>\n",
              "      <td>Man United</td>\n",
              "      <td>Leicester</td>\n",
              "      <td>2</td>\n",
              "      <td>1</td>\n",
              "      <td>H</td>\n",
              "      <td>1</td>\n",
              "      <td>0</td>\n",
              "      <td>H</td>\n",
              "      <td>A Marriner</td>\n",
              "      <td>8</td>\n",
              "      <td>13</td>\n",
              "      <td>6</td>\n",
              "      <td>4</td>\n",
              "      <td>11</td>\n",
              "      <td>8</td>\n",
              "      <td>2</td>\n",
              "      <td>5</td>\n",
              "      <td>2</td>\n",
              "      <td>1</td>\n",
              "      <td>0</td>\n",
              "      <td>0</td>\n",
              "    </tr>\n",
              "    <tr>\n",
              "      <th>1</th>\n",
              "      <td>2018-08-11</td>\n",
              "      <td>Bournemouth</td>\n",
              "      <td>Cardiff</td>\n",
              "      <td>2</td>\n",
              "      <td>0</td>\n",
              "      <td>H</td>\n",
              "      <td>1</td>\n",
              "      <td>0</td>\n",
              "      <td>H</td>\n",
              "      <td>K Friend</td>\n",
              "      <td>12</td>\n",
              "      <td>10</td>\n",
              "      <td>4</td>\n",
              "      <td>1</td>\n",
              "      <td>11</td>\n",
              "      <td>9</td>\n",
              "      <td>7</td>\n",
              "      <td>4</td>\n",
              "      <td>1</td>\n",
              "      <td>1</td>\n",
              "      <td>0</td>\n",
              "      <td>0</td>\n",
              "    </tr>\n",
              "    <tr>\n",
              "      <th>2</th>\n",
              "      <td>2018-08-11</td>\n",
              "      <td>Fulham</td>\n",
              "      <td>Crystal Palace</td>\n",
              "      <td>0</td>\n",
              "      <td>2</td>\n",
              "      <td>A</td>\n",
              "      <td>0</td>\n",
              "      <td>1</td>\n",
              "      <td>A</td>\n",
              "      <td>M Dean</td>\n",
              "      <td>15</td>\n",
              "      <td>10</td>\n",
              "      <td>6</td>\n",
              "      <td>9</td>\n",
              "      <td>9</td>\n",
              "      <td>11</td>\n",
              "      <td>5</td>\n",
              "      <td>5</td>\n",
              "      <td>1</td>\n",
              "      <td>2</td>\n",
              "      <td>0</td>\n",
              "      <td>0</td>\n",
              "    </tr>\n",
              "    <tr>\n",
              "      <th>3</th>\n",
              "      <td>2018-08-11</td>\n",
              "      <td>Huddersfield</td>\n",
              "      <td>Chelsea</td>\n",
              "      <td>0</td>\n",
              "      <td>3</td>\n",
              "      <td>A</td>\n",
              "      <td>0</td>\n",
              "      <td>2</td>\n",
              "      <td>A</td>\n",
              "      <td>C Kavanagh</td>\n",
              "      <td>6</td>\n",
              "      <td>13</td>\n",
              "      <td>1</td>\n",
              "      <td>4</td>\n",
              "      <td>9</td>\n",
              "      <td>8</td>\n",
              "      <td>2</td>\n",
              "      <td>5</td>\n",
              "      <td>2</td>\n",
              "      <td>1</td>\n",
              "      <td>0</td>\n",
              "      <td>0</td>\n",
              "    </tr>\n",
              "    <tr>\n",
              "      <th>4</th>\n",
              "      <td>2018-08-11</td>\n",
              "      <td>Newcastle</td>\n",
              "      <td>Tottenham</td>\n",
              "      <td>1</td>\n",
              "      <td>2</td>\n",
              "      <td>A</td>\n",
              "      <td>1</td>\n",
              "      <td>2</td>\n",
              "      <td>A</td>\n",
              "      <td>M Atkinson</td>\n",
              "      <td>15</td>\n",
              "      <td>15</td>\n",
              "      <td>2</td>\n",
              "      <td>5</td>\n",
              "      <td>11</td>\n",
              "      <td>12</td>\n",
              "      <td>3</td>\n",
              "      <td>5</td>\n",
              "      <td>2</td>\n",
              "      <td>2</td>\n",
              "      <td>0</td>\n",
              "      <td>0</td>\n",
              "    </tr>\n",
              "  </tbody>\n",
              "</table>\n",
              "</div>"
            ],
            "text/plain": [
              "         Date      HomeTeam        AwayTeam  FTHG  FTAG  ... AC  HY  AY HR AR\n",
              "0  2018-08-10    Man United       Leicester     2     1  ...  5   2   1  0  0\n",
              "1  2018-08-11   Bournemouth         Cardiff     2     0  ...  4   1   1  0  0\n",
              "2  2018-08-11        Fulham  Crystal Palace     0     2  ...  5   1   2  0  0\n",
              "3  2018-08-11  Huddersfield         Chelsea     0     3  ...  5   2   1  0  0\n",
              "4  2018-08-11     Newcastle       Tottenham     1     2  ...  5   2   2  0  0\n",
              "\n",
              "[5 rows x 22 columns]"
            ]
          },
          "metadata": {
            "tags": []
          },
          "execution_count": 5
        }
      ]
    },
    {
      "cell_type": "code",
      "metadata": {
        "id": "1om4azzoQ3lZ",
        "colab_type": "code",
        "colab": {}
      },
      "source": [
        "df = df.rename(columns={'FTHG':'Full Time Home Team Goals', 'FTAG':'Full Time Away Team Goals','FTR':'Full Time Result','HTHG':'Half Time Home Team Goals','HTAG':'Half Time Away Team Goals','HTR':'Half Time Result','HS':'Home Team Shots','AS':'Away Team Shots','HST':'Home Team Shots on Target','AST':'Away Team Shots on Target','HF':'Home Team Fouls','AF':'Away Team Fouls','HC':'Home Team Corners','AC':'Away Team Corners','HY':'Home Team Yellow Cards','AY':'Away Team Yellow Cards','HR':'Home Team Red Cards','AR':'Away Team Red Cards'})"
      ],
      "execution_count": 0,
      "outputs": []
    },
    {
      "cell_type": "code",
      "metadata": {
        "id": "4crzrK20RiuE",
        "colab_type": "code",
        "outputId": "6e9d8071-4ea8-4701-c9a0-cddd5627c1fc",
        "colab": {
          "base_uri": "https://localhost:8080/",
          "height": 366
        }
      },
      "source": [
        "df.head()"
      ],
      "execution_count": 7,
      "outputs": [
        {
          "output_type": "execute_result",
          "data": {
            "text/html": [
              "<div>\n",
              "<style scoped>\n",
              "    .dataframe tbody tr th:only-of-type {\n",
              "        vertical-align: middle;\n",
              "    }\n",
              "\n",
              "    .dataframe tbody tr th {\n",
              "        vertical-align: top;\n",
              "    }\n",
              "\n",
              "    .dataframe thead th {\n",
              "        text-align: right;\n",
              "    }\n",
              "</style>\n",
              "<table border=\"1\" class=\"dataframe\">\n",
              "  <thead>\n",
              "    <tr style=\"text-align: right;\">\n",
              "      <th></th>\n",
              "      <th>Date</th>\n",
              "      <th>HomeTeam</th>\n",
              "      <th>AwayTeam</th>\n",
              "      <th>Full Time Home Team Goals</th>\n",
              "      <th>Full Time Away Team Goals</th>\n",
              "      <th>Full Time Result</th>\n",
              "      <th>Half Time Home Team Goals</th>\n",
              "      <th>Half Time Away Team Goals</th>\n",
              "      <th>Half Time Result</th>\n",
              "      <th>Referee</th>\n",
              "      <th>Home Team Shots</th>\n",
              "      <th>Away Team Shots</th>\n",
              "      <th>Home Team Shots on Target</th>\n",
              "      <th>Away Team Shots on Target</th>\n",
              "      <th>Home Team Fouls</th>\n",
              "      <th>Away Team Fouls</th>\n",
              "      <th>Home Team Corners</th>\n",
              "      <th>Away Team Corners</th>\n",
              "      <th>Home Team Yellow Cards</th>\n",
              "      <th>Away Team Yellow Cards</th>\n",
              "      <th>Home Team Red Cards</th>\n",
              "      <th>Away Team Red Cards</th>\n",
              "    </tr>\n",
              "  </thead>\n",
              "  <tbody>\n",
              "    <tr>\n",
              "      <th>0</th>\n",
              "      <td>2018-08-10</td>\n",
              "      <td>Man United</td>\n",
              "      <td>Leicester</td>\n",
              "      <td>2</td>\n",
              "      <td>1</td>\n",
              "      <td>H</td>\n",
              "      <td>1</td>\n",
              "      <td>0</td>\n",
              "      <td>H</td>\n",
              "      <td>A Marriner</td>\n",
              "      <td>8</td>\n",
              "      <td>13</td>\n",
              "      <td>6</td>\n",
              "      <td>4</td>\n",
              "      <td>11</td>\n",
              "      <td>8</td>\n",
              "      <td>2</td>\n",
              "      <td>5</td>\n",
              "      <td>2</td>\n",
              "      <td>1</td>\n",
              "      <td>0</td>\n",
              "      <td>0</td>\n",
              "    </tr>\n",
              "    <tr>\n",
              "      <th>1</th>\n",
              "      <td>2018-08-11</td>\n",
              "      <td>Bournemouth</td>\n",
              "      <td>Cardiff</td>\n",
              "      <td>2</td>\n",
              "      <td>0</td>\n",
              "      <td>H</td>\n",
              "      <td>1</td>\n",
              "      <td>0</td>\n",
              "      <td>H</td>\n",
              "      <td>K Friend</td>\n",
              "      <td>12</td>\n",
              "      <td>10</td>\n",
              "      <td>4</td>\n",
              "      <td>1</td>\n",
              "      <td>11</td>\n",
              "      <td>9</td>\n",
              "      <td>7</td>\n",
              "      <td>4</td>\n",
              "      <td>1</td>\n",
              "      <td>1</td>\n",
              "      <td>0</td>\n",
              "      <td>0</td>\n",
              "    </tr>\n",
              "    <tr>\n",
              "      <th>2</th>\n",
              "      <td>2018-08-11</td>\n",
              "      <td>Fulham</td>\n",
              "      <td>Crystal Palace</td>\n",
              "      <td>0</td>\n",
              "      <td>2</td>\n",
              "      <td>A</td>\n",
              "      <td>0</td>\n",
              "      <td>1</td>\n",
              "      <td>A</td>\n",
              "      <td>M Dean</td>\n",
              "      <td>15</td>\n",
              "      <td>10</td>\n",
              "      <td>6</td>\n",
              "      <td>9</td>\n",
              "      <td>9</td>\n",
              "      <td>11</td>\n",
              "      <td>5</td>\n",
              "      <td>5</td>\n",
              "      <td>1</td>\n",
              "      <td>2</td>\n",
              "      <td>0</td>\n",
              "      <td>0</td>\n",
              "    </tr>\n",
              "    <tr>\n",
              "      <th>3</th>\n",
              "      <td>2018-08-11</td>\n",
              "      <td>Huddersfield</td>\n",
              "      <td>Chelsea</td>\n",
              "      <td>0</td>\n",
              "      <td>3</td>\n",
              "      <td>A</td>\n",
              "      <td>0</td>\n",
              "      <td>2</td>\n",
              "      <td>A</td>\n",
              "      <td>C Kavanagh</td>\n",
              "      <td>6</td>\n",
              "      <td>13</td>\n",
              "      <td>1</td>\n",
              "      <td>4</td>\n",
              "      <td>9</td>\n",
              "      <td>8</td>\n",
              "      <td>2</td>\n",
              "      <td>5</td>\n",
              "      <td>2</td>\n",
              "      <td>1</td>\n",
              "      <td>0</td>\n",
              "      <td>0</td>\n",
              "    </tr>\n",
              "    <tr>\n",
              "      <th>4</th>\n",
              "      <td>2018-08-11</td>\n",
              "      <td>Newcastle</td>\n",
              "      <td>Tottenham</td>\n",
              "      <td>1</td>\n",
              "      <td>2</td>\n",
              "      <td>A</td>\n",
              "      <td>1</td>\n",
              "      <td>2</td>\n",
              "      <td>A</td>\n",
              "      <td>M Atkinson</td>\n",
              "      <td>15</td>\n",
              "      <td>15</td>\n",
              "      <td>2</td>\n",
              "      <td>5</td>\n",
              "      <td>11</td>\n",
              "      <td>12</td>\n",
              "      <td>3</td>\n",
              "      <td>5</td>\n",
              "      <td>2</td>\n",
              "      <td>2</td>\n",
              "      <td>0</td>\n",
              "      <td>0</td>\n",
              "    </tr>\n",
              "  </tbody>\n",
              "</table>\n",
              "</div>"
            ],
            "text/plain": [
              "         Date      HomeTeam  ... Home Team Red Cards  Away Team Red Cards\n",
              "0  2018-08-10    Man United  ...                   0                    0\n",
              "1  2018-08-11   Bournemouth  ...                   0                    0\n",
              "2  2018-08-11        Fulham  ...                   0                    0\n",
              "3  2018-08-11  Huddersfield  ...                   0                    0\n",
              "4  2018-08-11     Newcastle  ...                   0                    0\n",
              "\n",
              "[5 rows x 22 columns]"
            ]
          },
          "metadata": {
            "tags": []
          },
          "execution_count": 7
        }
      ]
    },
    {
      "cell_type": "code",
      "metadata": {
        "id": "oUXnmoRIVMdR",
        "colab_type": "code",
        "colab": {}
      },
      "source": [
        "teams= df['HomeTeam'].unique()\n",
        "teams.sort()"
      ],
      "execution_count": 0,
      "outputs": []
    },
    {
      "cell_type": "code",
      "metadata": {
        "id": "km8b0dKyuoYj",
        "colab_type": "code",
        "outputId": "458f318f-5349-4791-bb58-f6e379452756",
        "colab": {
          "base_uri": "https://localhost:8080/",
          "height": 84
        }
      },
      "source": [
        "print (teams)"
      ],
      "execution_count": 9,
      "outputs": [
        {
          "output_type": "stream",
          "text": [
            "['Arsenal' 'Bournemouth' 'Brighton' 'Burnley' 'Cardiff' 'Chelsea'\n",
            " 'Crystal Palace' 'Everton' 'Fulham' 'Huddersfield' 'Leicester'\n",
            " 'Liverpool' 'Man City' 'Man United' 'Newcastle' 'Southampton' 'Tottenham'\n",
            " 'Watford' 'West Ham' 'Wolves']\n"
          ],
          "name": "stdout"
        }
      ]
    },
    {
      "cell_type": "code",
      "metadata": {
        "id": "OqjTW1iaxdWW",
        "colab_type": "code",
        "colab": {}
      },
      "source": [
        "df['Total Number of Shots']=df.apply(lambda x : x['Home Team Shots'] + x['Away Team Shots'], axis = 1)"
      ],
      "execution_count": 0,
      "outputs": []
    },
    {
      "cell_type": "code",
      "metadata": {
        "id": "RAPepoOoROXx",
        "colab_type": "code",
        "outputId": "31fb3853-07bd-490f-b7a6-260448ca46df",
        "colab": {
          "base_uri": "https://localhost:8080/",
          "height": 181
        }
      },
      "source": [
        "df[df['Total Number of Shots']==df['Total Number of Shots'].max()]"
      ],
      "execution_count": 11,
      "outputs": [
        {
          "output_type": "execute_result",
          "data": {
            "text/html": [
              "<div>\n",
              "<style scoped>\n",
              "    .dataframe tbody tr th:only-of-type {\n",
              "        vertical-align: middle;\n",
              "    }\n",
              "\n",
              "    .dataframe tbody tr th {\n",
              "        vertical-align: top;\n",
              "    }\n",
              "\n",
              "    .dataframe thead th {\n",
              "        text-align: right;\n",
              "    }\n",
              "</style>\n",
              "<table border=\"1\" class=\"dataframe\">\n",
              "  <thead>\n",
              "    <tr style=\"text-align: right;\">\n",
              "      <th></th>\n",
              "      <th>Date</th>\n",
              "      <th>HomeTeam</th>\n",
              "      <th>AwayTeam</th>\n",
              "      <th>Full Time Home Team Goals</th>\n",
              "      <th>Full Time Away Team Goals</th>\n",
              "      <th>Full Time Result</th>\n",
              "      <th>Half Time Home Team Goals</th>\n",
              "      <th>Half Time Away Team Goals</th>\n",
              "      <th>Half Time Result</th>\n",
              "      <th>Referee</th>\n",
              "      <th>Home Team Shots</th>\n",
              "      <th>Away Team Shots</th>\n",
              "      <th>Home Team Shots on Target</th>\n",
              "      <th>Away Team Shots on Target</th>\n",
              "      <th>Home Team Fouls</th>\n",
              "      <th>Away Team Fouls</th>\n",
              "      <th>Home Team Corners</th>\n",
              "      <th>Away Team Corners</th>\n",
              "      <th>Home Team Yellow Cards</th>\n",
              "      <th>Away Team Yellow Cards</th>\n",
              "      <th>Home Team Red Cards</th>\n",
              "      <th>Away Team Red Cards</th>\n",
              "      <th>Total Number of Shots</th>\n",
              "    </tr>\n",
              "  </thead>\n",
              "  <tbody>\n",
              "    <tr>\n",
              "      <th>168</th>\n",
              "      <td>2018-12-16</td>\n",
              "      <td>Liverpool</td>\n",
              "      <td>Man United</td>\n",
              "      <td>3</td>\n",
              "      <td>1</td>\n",
              "      <td>H</td>\n",
              "      <td>1</td>\n",
              "      <td>1</td>\n",
              "      <td>D</td>\n",
              "      <td>M Atkinson</td>\n",
              "      <td>36</td>\n",
              "      <td>6</td>\n",
              "      <td>11</td>\n",
              "      <td>2</td>\n",
              "      <td>6</td>\n",
              "      <td>14</td>\n",
              "      <td>13</td>\n",
              "      <td>2</td>\n",
              "      <td>0</td>\n",
              "      <td>2</td>\n",
              "      <td>0</td>\n",
              "      <td>0</td>\n",
              "      <td>42</td>\n",
              "    </tr>\n",
              "  </tbody>\n",
              "</table>\n",
              "</div>"
            ],
            "text/plain": [
              "           Date   HomeTeam  ... Away Team Red Cards  Total Number of Shots\n",
              "168  2018-12-16  Liverpool  ...                   0                     42\n",
              "\n",
              "[1 rows x 23 columns]"
            ]
          },
          "metadata": {
            "tags": []
          },
          "execution_count": 11
        }
      ]
    },
    {
      "cell_type": "code",
      "metadata": {
        "id": "hgjNAzFOU6Xl",
        "colab_type": "code",
        "colab": {}
      },
      "source": [
        "df['Total Number of Shots on Target']=df.apply(lambda x:x['Home Team Shots on Target']+x['Away Team Shots on Target'], axis = 1)"
      ],
      "execution_count": 0,
      "outputs": []
    },
    {
      "cell_type": "code",
      "metadata": {
        "id": "6DwCELORUwce",
        "colab_type": "code",
        "outputId": "1dd3838f-8b04-4b48-85ce-23e857119023",
        "colab": {
          "base_uri": "https://localhost:8080/",
          "height": 34
        }
      },
      "source": [
        "Totalshots=df['Total Number of Shots'].sum()\n",
        "Totalshotsontarget=df['Total Number of Shots on Target'].sum()\n",
        "print (Totalshots/Totalshotsontarget)"
      ],
      "execution_count": 13,
      "outputs": [
        {
          "output_type": "stream",
          "text": [
            "2.90887072358462\n"
          ],
          "name": "stdout"
        }
      ]
    },
    {
      "cell_type": "code",
      "metadata": {
        "id": "I0VsTEZoW0Dh",
        "colab_type": "code",
        "outputId": "430ee132-3c43-4cad-db66-a3921ffcfc7f",
        "colab": {
          "base_uri": "https://localhost:8080/",
          "height": 84
        }
      },
      "source": [
        "df['Referee'].unique()"
      ],
      "execution_count": 14,
      "outputs": [
        {
          "output_type": "execute_result",
          "data": {
            "text/plain": [
              "array(['A Marriner', 'K Friend', 'M Dean', 'C Kavanagh', 'M Atkinson',\n",
              "       'J Moss', 'C Pawson', 'M Oliver', 'A Taylor', 'G Scott', 'L Mason',\n",
              "       'S Attwell', 'P Tierney', 'L Probert', 'D Coote', 'R East',\n",
              "       'S Hooper', 'A Madley', 'J Linington'], dtype=object)"
            ]
          },
          "metadata": {
            "tags": []
          },
          "execution_count": 14
        }
      ]
    },
    {
      "cell_type": "code",
      "metadata": {
        "id": "itDPRLOhidSb",
        "colab_type": "code",
        "colab": {}
      },
      "source": [
        "df['Total Cards']= df.apply(lambda x:x['Home Team Yellow Cards']+x['Away Team Yellow Cards']+x['Home Team Red Cards']+x['Away Team Red Cards'], axis = 1)"
      ],
      "execution_count": 0,
      "outputs": []
    },
    {
      "cell_type": "code",
      "metadata": {
        "id": "aQDWxs7_km_C",
        "colab_type": "code",
        "outputId": "a697bfb0-b189-4516-acf1-2306bc0f886d",
        "colab": {
          "base_uri": "https://localhost:8080/",
          "height": 370
        }
      },
      "source": [
        "df.groupby('Referee')['Total Cards'].sum()"
      ],
      "execution_count": 16,
      "outputs": [
        {
          "output_type": "execute_result",
          "data": {
            "text/plain": [
              "Referee\n",
              "A Madley         2\n",
              "A Marriner      76\n",
              "A Taylor       103\n",
              "C Kavanagh      76\n",
              "C Pawson        99\n",
              "D Coote         35\n",
              "G Scott         39\n",
              "J Linington      4\n",
              "J Moss          98\n",
              "K Friend        92\n",
              "L Mason         64\n",
              "L Probert       50\n",
              "M Atkinson      92\n",
              "M Dean         137\n",
              "M Oliver        90\n",
              "P Tierney       83\n",
              "R East          44\n",
              "S Attwell       64\n",
              "S Hooper        20\n",
              "Name: Total Cards, dtype: int64"
            ]
          },
          "metadata": {
            "tags": []
          },
          "execution_count": 16
        }
      ]
    },
    {
      "cell_type": "code",
      "metadata": {
        "id": "6e86e-_QpwVQ",
        "colab_type": "code",
        "outputId": "da57f650-7586-44a1-9f0c-d452cdbbee64",
        "colab": {
          "base_uri": "https://localhost:8080/",
          "height": 67
        }
      },
      "source": [
        "Totalcards=df.groupby('HomeTeam')['Home Team Red Cards','Home Team Yellow Cards'].sum().sum(axis=1)+df.groupby('AwayTeam')['Away Team Red Cards','Away Team Yellow Cards'].sum().sum(axis=1)\n",
        "Totalcards.loc[(Totalcards==Totalcards.max())]"
      ],
      "execution_count": 24,
      "outputs": [
        {
          "output_type": "execute_result",
          "data": {
            "text/plain": [
              "HomeTeam\n",
              "Watford    81\n",
              "dtype: int64"
            ]
          },
          "metadata": {
            "tags": []
          },
          "execution_count": 24
        }
      ]
    },
    {
      "cell_type": "code",
      "metadata": {
        "id": "9PdiZziD4T-L",
        "colab_type": "code",
        "colab": {
          "base_uri": "https://localhost:8080/",
          "height": 67
        },
        "outputId": "dc784b75-f0b1-4072-a3ab-4f7bd366c56d"
      },
      "source": [
        "R = df[df['Full Time Result']=='H'].groupby(\"Referee\")['Full Time Result'].value_counts()\n",
        "R.loc[(R==R.max())]"
      ],
      "execution_count": 25,
      "outputs": [
        {
          "output_type": "execute_result",
          "data": {
            "text/plain": [
              "Referee   Full Time Result\n",
              "A Taylor  H                   20\n",
              "Name: Full Time Result, dtype: int64"
            ]
          },
          "metadata": {
            "tags": []
          },
          "execution_count": 25
        }
      ]
    }
  ]
}